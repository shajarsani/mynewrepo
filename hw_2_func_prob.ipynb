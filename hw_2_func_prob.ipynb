{
 "cells": [
  {
   "cell_type": "code",
   "execution_count": null,
   "id": "1139084e",
   "metadata": {},
   "outputs": [],
   "source": [
    "# Homework two function problem"
   ]
  },
  {
   "cell_type": "code",
   "execution_count": 1,
   "id": "07be5fcd",
   "metadata": {},
   "outputs": [],
   "source": [
    "# HW1: Function to check if a string is a palindrome\n",
    "#\"apple\" -> False\n",
    "#\"noon\" -> True\n",
    "\n",
    "def check_palindrome(input_str):\n",
    "\n",
    "    if input_str == input_str[::-1]:\n",
    "        return True\n",
    "    else:\n",
    "        return False "
   ]
  },
  {
   "cell_type": "code",
   "execution_count": 2,
   "id": "ba44c6d1",
   "metadata": {},
   "outputs": [
    {
     "data": {
      "text/plain": [
       "False"
      ]
     },
     "execution_count": 2,
     "metadata": {},
     "output_type": "execute_result"
    }
   ],
   "source": [
    "check_palindrome(\"hi\")"
   ]
  },
  {
   "cell_type": "code",
   "execution_count": 3,
   "id": "3cb4240a",
   "metadata": {},
   "outputs": [
    {
     "data": {
      "text/plain": [
       "True"
      ]
     },
     "execution_count": 3,
     "metadata": {},
     "output_type": "execute_result"
    }
   ],
   "source": [
    "check_palindrome(\"noon\")"
   ]
  },
  {
   "cell_type": "code",
   "execution_count": 4,
   "id": "5dd7fba9",
   "metadata": {},
   "outputs": [],
   "source": [
    "#HW2: Function that take a number and returns the reversed number\n",
    "#123 -> 321\n",
    "#78 -> 87\n",
    "\n",
    "# Hint:\n",
    "#list_of_num = [1,2,3,4,5]\n",
    "#list_of_num[::-1] # This helps to reverse the list"
   ]
  },
  {
   "cell_type": "code",
   "execution_count": 5,
   "id": "af9ada9f",
   "metadata": {},
   "outputs": [
    {
     "name": "stdout",
     "output_type": "stream",
     "text": [
      "Enter number : 1\n",
      "Enter number : 3\n",
      "Enter number : 4\n",
      "Enter number : 5\n",
      "Enter number : 6\n",
      "Enter number : \n",
      "['1', '3', '4', '5', '6']\n",
      "['6', '5', '4', '3', '1']\n"
     ]
    }
   ],
   "source": [
    "def reverse_num (list_of_num):\n",
    "    return list_of_num[::-1]\n",
    "    \n",
    "    \n",
    "list_of_num=[]\n",
    "\n",
    "i = 0\n",
    "while i >= 0:\n",
    "    input_num = input(\"Enter number : \")\n",
    "    \n",
    "    if input_num == \"\":\n",
    "        break\n",
    "    else:\n",
    "        list_of_num.append(input_num)\n",
    "        i += 1\n",
    "        \n",
    "print(list_of_num)\n",
    "print(reverse_num(list_of_num))\n",
    "\n",
    "\n",
    "    \n",
    "    "
   ]
  },
  {
   "cell_type": "code",
   "execution_count": null,
   "id": "ebec0bdb",
   "metadata": {},
   "outputs": [],
   "source": [
    "# correct way"
   ]
  },
  {
   "cell_type": "code",
   "execution_count": 1,
   "id": "fef5f97f",
   "metadata": {},
   "outputs": [],
   "source": [
    "def reverse_func(num):\n",
    "    return int(str(num)[::-1])"
   ]
  },
  {
   "cell_type": "code",
   "execution_count": 2,
   "id": "cbba9e7e",
   "metadata": {},
   "outputs": [
    {
     "name": "stdout",
     "output_type": "stream",
     "text": [
      "Enter a number123456\n"
     ]
    },
    {
     "data": {
      "text/plain": [
       "654321"
      ]
     },
     "execution_count": 2,
     "metadata": {},
     "output_type": "execute_result"
    }
   ],
   "source": [
    "n1 = input('Enter a number')\n",
    "reverse_func(int(n1))"
   ]
  },
  {
   "cell_type": "code",
   "execution_count": null,
   "id": "562f0969",
   "metadata": {},
   "outputs": [],
   "source": []
  }
 ],
 "metadata": {
  "kernelspec": {
   "display_name": "Python 3",
   "language": "python",
   "name": "python3"
  },
  "language_info": {
   "codemirror_mode": {
    "name": "ipython",
    "version": 3
   },
   "file_extension": ".py",
   "mimetype": "text/x-python",
   "name": "python",
   "nbconvert_exporter": "python",
   "pygments_lexer": "ipython3",
   "version": "3.8.8"
  }
 },
 "nbformat": 4,
 "nbformat_minor": 5
}
